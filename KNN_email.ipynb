{
  "nbformat": 4,
  "nbformat_minor": 0,
  "metadata": {
    "colab": {
      "provenance": [],
      "authorship_tag": "ABX9TyNOToTK/O+/rUVk1ksS21VI",
      "include_colab_link": true
    },
    "kernelspec": {
      "name": "python3",
      "display_name": "Python 3"
    },
    "language_info": {
      "name": "python"
    }
  },
  "cells": [
    {
      "cell_type": "markdown",
      "metadata": {
        "id": "view-in-github",
        "colab_type": "text"
      },
      "source": [
        "<a href=\"https://colab.research.google.com/github/priyachittamuru/KNN/blob/main/KNN_email.ipynb\" target=\"_parent\"><img src=\"https://colab.research.google.com/assets/colab-badge.svg\" alt=\"Open In Colab\"/></a>"
      ]
    },
    {
      "cell_type": "markdown",
      "source": [
        "#**Email Spam Classification Dataset CSV**\n",
        "###**Source:**[Kaggle](https://www.kaggle.com/datasets/balaka18/email-spam-classification-dataset-csv)\n",
        "###**Description:**\n",
        "The csv file contains 5172 rows, each row for each email. There are 3002 columns. The first column indicates Email name. The name has been set with numbers and not recipients' name to protect privacy. The last column has the labels for prediction : 1 for spam, 0 for not spam. The remaining 3000 columns are the 3000 most common words in all the emails, after excluding the non-alphabetical characters/words. For each row, the count of each word(column) in that email(row) is stored in the respective cells. Thus, information regarding all 5172 emails are stored in a compact dataframe rather than as separate text files."
      ],
      "metadata": {
        "id": "04XaquEobkjA"
      }
    },
    {
      "cell_type": "code",
      "execution_count": 22,
      "metadata": {
        "id": "FWmoIDZqro6Y"
      },
      "outputs": [],
      "source": [
        "#Importing neccessary libraries\n",
        "import pandas as pd\n",
        "import numpy as np\n",
        "import matplotlib.pyplot as plt\n",
        "import seaborn as sns\n",
        "from sklearn.model_selection import train_test_split\n",
        "from sklearn.neighbors import KNeighborsClassifier\n",
        "from sklearn.preprocessing import StandardScaler, LabelEncoder\n",
        "from sklearn import metrics\n",
        "from sklearn.metrics import confusion_matrix\n",
        "from sklearn.model_selection import GridSearchCV\n",
        "from sklearn.decomposition import PCA\n",
        "from sklearn.model_selection import RandomizedSearchCV"
      ]
    },
    {
      "cell_type": "code",
      "source": [
        "# Load the dataset\n",
        "data = pd.read_csv('/content/emails.csv')"
      ],
      "metadata": {
        "id": "-8e4ckOor8bL"
      },
      "execution_count": 3,
      "outputs": []
    },
    {
      "cell_type": "code",
      "source": [
        "#Printing the dataset\n",
        "data.head()"
      ],
      "metadata": {
        "colab": {
          "base_uri": "https://localhost:8080/",
          "height": 359
        },
        "id": "nZkIS2IWtkv7",
        "outputId": "d538eebf-b645-4e50-ab6f-594102922da5"
      },
      "execution_count": 4,
      "outputs": [
        {
          "output_type": "execute_result",
          "data": {
            "text/plain": [
              "  Email No.  the  to  ect  and  for  of    a  you  hou  ...  connevey  jay  \\\n",
              "0   Email 1    0   0    1    0    0   0    2    0    0  ...         0    0   \n",
              "1   Email 2    8  13   24    6    6   2  102    1   27  ...         0    0   \n",
              "2   Email 3    0   0    1    0    0   0    8    0    0  ...         0    0   \n",
              "3   Email 4    0   5   22    0    5   1   51    2   10  ...         0    0   \n",
              "4   Email 5    7   6   17    1    5   2   57    0    9  ...         0    0   \n",
              "\n",
              "   valued  lay  infrastructure  military  allowing  ff  dry  Prediction  \n",
              "0       0    0               0         0         0   0    0           0  \n",
              "1       0    0               0         0         0   1    0           0  \n",
              "2       0    0               0         0         0   0    0           0  \n",
              "3       0    0               0         0         0   0    0           0  \n",
              "4       0    0               0         0         0   1    0           0  \n",
              "\n",
              "[5 rows x 3002 columns]"
            ],
            "text/html": [
              "\n",
              "  <div id=\"df-4451d070-6009-4a7a-9aa4-5110377dd7db\" class=\"colab-df-container\">\n",
              "    <div>\n",
              "<style scoped>\n",
              "    .dataframe tbody tr th:only-of-type {\n",
              "        vertical-align: middle;\n",
              "    }\n",
              "\n",
              "    .dataframe tbody tr th {\n",
              "        vertical-align: top;\n",
              "    }\n",
              "\n",
              "    .dataframe thead th {\n",
              "        text-align: right;\n",
              "    }\n",
              "</style>\n",
              "<table border=\"1\" class=\"dataframe\">\n",
              "  <thead>\n",
              "    <tr style=\"text-align: right;\">\n",
              "      <th></th>\n",
              "      <th>Email No.</th>\n",
              "      <th>the</th>\n",
              "      <th>to</th>\n",
              "      <th>ect</th>\n",
              "      <th>and</th>\n",
              "      <th>for</th>\n",
              "      <th>of</th>\n",
              "      <th>a</th>\n",
              "      <th>you</th>\n",
              "      <th>hou</th>\n",
              "      <th>...</th>\n",
              "      <th>connevey</th>\n",
              "      <th>jay</th>\n",
              "      <th>valued</th>\n",
              "      <th>lay</th>\n",
              "      <th>infrastructure</th>\n",
              "      <th>military</th>\n",
              "      <th>allowing</th>\n",
              "      <th>ff</th>\n",
              "      <th>dry</th>\n",
              "      <th>Prediction</th>\n",
              "    </tr>\n",
              "  </thead>\n",
              "  <tbody>\n",
              "    <tr>\n",
              "      <th>0</th>\n",
              "      <td>Email 1</td>\n",
              "      <td>0</td>\n",
              "      <td>0</td>\n",
              "      <td>1</td>\n",
              "      <td>0</td>\n",
              "      <td>0</td>\n",
              "      <td>0</td>\n",
              "      <td>2</td>\n",
              "      <td>0</td>\n",
              "      <td>0</td>\n",
              "      <td>...</td>\n",
              "      <td>0</td>\n",
              "      <td>0</td>\n",
              "      <td>0</td>\n",
              "      <td>0</td>\n",
              "      <td>0</td>\n",
              "      <td>0</td>\n",
              "      <td>0</td>\n",
              "      <td>0</td>\n",
              "      <td>0</td>\n",
              "      <td>0</td>\n",
              "    </tr>\n",
              "    <tr>\n",
              "      <th>1</th>\n",
              "      <td>Email 2</td>\n",
              "      <td>8</td>\n",
              "      <td>13</td>\n",
              "      <td>24</td>\n",
              "      <td>6</td>\n",
              "      <td>6</td>\n",
              "      <td>2</td>\n",
              "      <td>102</td>\n",
              "      <td>1</td>\n",
              "      <td>27</td>\n",
              "      <td>...</td>\n",
              "      <td>0</td>\n",
              "      <td>0</td>\n",
              "      <td>0</td>\n",
              "      <td>0</td>\n",
              "      <td>0</td>\n",
              "      <td>0</td>\n",
              "      <td>0</td>\n",
              "      <td>1</td>\n",
              "      <td>0</td>\n",
              "      <td>0</td>\n",
              "    </tr>\n",
              "    <tr>\n",
              "      <th>2</th>\n",
              "      <td>Email 3</td>\n",
              "      <td>0</td>\n",
              "      <td>0</td>\n",
              "      <td>1</td>\n",
              "      <td>0</td>\n",
              "      <td>0</td>\n",
              "      <td>0</td>\n",
              "      <td>8</td>\n",
              "      <td>0</td>\n",
              "      <td>0</td>\n",
              "      <td>...</td>\n",
              "      <td>0</td>\n",
              "      <td>0</td>\n",
              "      <td>0</td>\n",
              "      <td>0</td>\n",
              "      <td>0</td>\n",
              "      <td>0</td>\n",
              "      <td>0</td>\n",
              "      <td>0</td>\n",
              "      <td>0</td>\n",
              "      <td>0</td>\n",
              "    </tr>\n",
              "    <tr>\n",
              "      <th>3</th>\n",
              "      <td>Email 4</td>\n",
              "      <td>0</td>\n",
              "      <td>5</td>\n",
              "      <td>22</td>\n",
              "      <td>0</td>\n",
              "      <td>5</td>\n",
              "      <td>1</td>\n",
              "      <td>51</td>\n",
              "      <td>2</td>\n",
              "      <td>10</td>\n",
              "      <td>...</td>\n",
              "      <td>0</td>\n",
              "      <td>0</td>\n",
              "      <td>0</td>\n",
              "      <td>0</td>\n",
              "      <td>0</td>\n",
              "      <td>0</td>\n",
              "      <td>0</td>\n",
              "      <td>0</td>\n",
              "      <td>0</td>\n",
              "      <td>0</td>\n",
              "    </tr>\n",
              "    <tr>\n",
              "      <th>4</th>\n",
              "      <td>Email 5</td>\n",
              "      <td>7</td>\n",
              "      <td>6</td>\n",
              "      <td>17</td>\n",
              "      <td>1</td>\n",
              "      <td>5</td>\n",
              "      <td>2</td>\n",
              "      <td>57</td>\n",
              "      <td>0</td>\n",
              "      <td>9</td>\n",
              "      <td>...</td>\n",
              "      <td>0</td>\n",
              "      <td>0</td>\n",
              "      <td>0</td>\n",
              "      <td>0</td>\n",
              "      <td>0</td>\n",
              "      <td>0</td>\n",
              "      <td>0</td>\n",
              "      <td>1</td>\n",
              "      <td>0</td>\n",
              "      <td>0</td>\n",
              "    </tr>\n",
              "  </tbody>\n",
              "</table>\n",
              "<p>5 rows × 3002 columns</p>\n",
              "</div>\n",
              "    <div class=\"colab-df-buttons\">\n",
              "\n",
              "  <div class=\"colab-df-container\">\n",
              "    <button class=\"colab-df-convert\" onclick=\"convertToInteractive('df-4451d070-6009-4a7a-9aa4-5110377dd7db')\"\n",
              "            title=\"Convert this dataframe to an interactive table.\"\n",
              "            style=\"display:none;\">\n",
              "\n",
              "  <svg xmlns=\"http://www.w3.org/2000/svg\" height=\"24px\" viewBox=\"0 -960 960 960\">\n",
              "    <path d=\"M120-120v-720h720v720H120Zm60-500h600v-160H180v160Zm220 220h160v-160H400v160Zm0 220h160v-160H400v160ZM180-400h160v-160H180v160Zm440 0h160v-160H620v160ZM180-180h160v-160H180v160Zm440 0h160v-160H620v160Z\"/>\n",
              "  </svg>\n",
              "    </button>\n",
              "\n",
              "  <style>\n",
              "    .colab-df-container {\n",
              "      display:flex;\n",
              "      gap: 12px;\n",
              "    }\n",
              "\n",
              "    .colab-df-convert {\n",
              "      background-color: #E8F0FE;\n",
              "      border: none;\n",
              "      border-radius: 50%;\n",
              "      cursor: pointer;\n",
              "      display: none;\n",
              "      fill: #1967D2;\n",
              "      height: 32px;\n",
              "      padding: 0 0 0 0;\n",
              "      width: 32px;\n",
              "    }\n",
              "\n",
              "    .colab-df-convert:hover {\n",
              "      background-color: #E2EBFA;\n",
              "      box-shadow: 0px 1px 2px rgba(60, 64, 67, 0.3), 0px 1px 3px 1px rgba(60, 64, 67, 0.15);\n",
              "      fill: #174EA6;\n",
              "    }\n",
              "\n",
              "    .colab-df-buttons div {\n",
              "      margin-bottom: 4px;\n",
              "    }\n",
              "\n",
              "    [theme=dark] .colab-df-convert {\n",
              "      background-color: #3B4455;\n",
              "      fill: #D2E3FC;\n",
              "    }\n",
              "\n",
              "    [theme=dark] .colab-df-convert:hover {\n",
              "      background-color: #434B5C;\n",
              "      box-shadow: 0px 1px 3px 1px rgba(0, 0, 0, 0.15);\n",
              "      filter: drop-shadow(0px 1px 2px rgba(0, 0, 0, 0.3));\n",
              "      fill: #FFFFFF;\n",
              "    }\n",
              "  </style>\n",
              "\n",
              "    <script>\n",
              "      const buttonEl =\n",
              "        document.querySelector('#df-4451d070-6009-4a7a-9aa4-5110377dd7db button.colab-df-convert');\n",
              "      buttonEl.style.display =\n",
              "        google.colab.kernel.accessAllowed ? 'block' : 'none';\n",
              "\n",
              "      async function convertToInteractive(key) {\n",
              "        const element = document.querySelector('#df-4451d070-6009-4a7a-9aa4-5110377dd7db');\n",
              "        const dataTable =\n",
              "          await google.colab.kernel.invokeFunction('convertToInteractive',\n",
              "                                                    [key], {});\n",
              "        if (!dataTable) return;\n",
              "\n",
              "        const docLinkHtml = 'Like what you see? Visit the ' +\n",
              "          '<a target=\"_blank\" href=https://colab.research.google.com/notebooks/data_table.ipynb>data table notebook</a>'\n",
              "          + ' to learn more about interactive tables.';\n",
              "        element.innerHTML = '';\n",
              "        dataTable['output_type'] = 'display_data';\n",
              "        await google.colab.output.renderOutput(dataTable, element);\n",
              "        const docLink = document.createElement('div');\n",
              "        docLink.innerHTML = docLinkHtml;\n",
              "        element.appendChild(docLink);\n",
              "      }\n",
              "    </script>\n",
              "  </div>\n",
              "\n",
              "\n",
              "<div id=\"df-08d3398a-dbbd-4c6f-a75d-e452bf58716a\">\n",
              "  <button class=\"colab-df-quickchart\" onclick=\"quickchart('df-08d3398a-dbbd-4c6f-a75d-e452bf58716a')\"\n",
              "            title=\"Suggest charts\"\n",
              "            style=\"display:none;\">\n",
              "\n",
              "<svg xmlns=\"http://www.w3.org/2000/svg\" height=\"24px\"viewBox=\"0 0 24 24\"\n",
              "     width=\"24px\">\n",
              "    <g>\n",
              "        <path d=\"M19 3H5c-1.1 0-2 .9-2 2v14c0 1.1.9 2 2 2h14c1.1 0 2-.9 2-2V5c0-1.1-.9-2-2-2zM9 17H7v-7h2v7zm4 0h-2V7h2v10zm4 0h-2v-4h2v4z\"/>\n",
              "    </g>\n",
              "</svg>\n",
              "  </button>\n",
              "\n",
              "<style>\n",
              "  .colab-df-quickchart {\n",
              "      --bg-color: #E8F0FE;\n",
              "      --fill-color: #1967D2;\n",
              "      --hover-bg-color: #E2EBFA;\n",
              "      --hover-fill-color: #174EA6;\n",
              "      --disabled-fill-color: #AAA;\n",
              "      --disabled-bg-color: #DDD;\n",
              "  }\n",
              "\n",
              "  [theme=dark] .colab-df-quickchart {\n",
              "      --bg-color: #3B4455;\n",
              "      --fill-color: #D2E3FC;\n",
              "      --hover-bg-color: #434B5C;\n",
              "      --hover-fill-color: #FFFFFF;\n",
              "      --disabled-bg-color: #3B4455;\n",
              "      --disabled-fill-color: #666;\n",
              "  }\n",
              "\n",
              "  .colab-df-quickchart {\n",
              "    background-color: var(--bg-color);\n",
              "    border: none;\n",
              "    border-radius: 50%;\n",
              "    cursor: pointer;\n",
              "    display: none;\n",
              "    fill: var(--fill-color);\n",
              "    height: 32px;\n",
              "    padding: 0;\n",
              "    width: 32px;\n",
              "  }\n",
              "\n",
              "  .colab-df-quickchart:hover {\n",
              "    background-color: var(--hover-bg-color);\n",
              "    box-shadow: 0 1px 2px rgba(60, 64, 67, 0.3), 0 1px 3px 1px rgba(60, 64, 67, 0.15);\n",
              "    fill: var(--button-hover-fill-color);\n",
              "  }\n",
              "\n",
              "  .colab-df-quickchart-complete:disabled,\n",
              "  .colab-df-quickchart-complete:disabled:hover {\n",
              "    background-color: var(--disabled-bg-color);\n",
              "    fill: var(--disabled-fill-color);\n",
              "    box-shadow: none;\n",
              "  }\n",
              "\n",
              "  .colab-df-spinner {\n",
              "    border: 2px solid var(--fill-color);\n",
              "    border-color: transparent;\n",
              "    border-bottom-color: var(--fill-color);\n",
              "    animation:\n",
              "      spin 1s steps(1) infinite;\n",
              "  }\n",
              "\n",
              "  @keyframes spin {\n",
              "    0% {\n",
              "      border-color: transparent;\n",
              "      border-bottom-color: var(--fill-color);\n",
              "      border-left-color: var(--fill-color);\n",
              "    }\n",
              "    20% {\n",
              "      border-color: transparent;\n",
              "      border-left-color: var(--fill-color);\n",
              "      border-top-color: var(--fill-color);\n",
              "    }\n",
              "    30% {\n",
              "      border-color: transparent;\n",
              "      border-left-color: var(--fill-color);\n",
              "      border-top-color: var(--fill-color);\n",
              "      border-right-color: var(--fill-color);\n",
              "    }\n",
              "    40% {\n",
              "      border-color: transparent;\n",
              "      border-right-color: var(--fill-color);\n",
              "      border-top-color: var(--fill-color);\n",
              "    }\n",
              "    60% {\n",
              "      border-color: transparent;\n",
              "      border-right-color: var(--fill-color);\n",
              "    }\n",
              "    80% {\n",
              "      border-color: transparent;\n",
              "      border-right-color: var(--fill-color);\n",
              "      border-bottom-color: var(--fill-color);\n",
              "    }\n",
              "    90% {\n",
              "      border-color: transparent;\n",
              "      border-bottom-color: var(--fill-color);\n",
              "    }\n",
              "  }\n",
              "</style>\n",
              "\n",
              "  <script>\n",
              "    async function quickchart(key) {\n",
              "      const quickchartButtonEl =\n",
              "        document.querySelector('#' + key + ' button');\n",
              "      quickchartButtonEl.disabled = true;  // To prevent multiple clicks.\n",
              "      quickchartButtonEl.classList.add('colab-df-spinner');\n",
              "      try {\n",
              "        const charts = await google.colab.kernel.invokeFunction(\n",
              "            'suggestCharts', [key], {});\n",
              "      } catch (error) {\n",
              "        console.error('Error during call to suggestCharts:', error);\n",
              "      }\n",
              "      quickchartButtonEl.classList.remove('colab-df-spinner');\n",
              "      quickchartButtonEl.classList.add('colab-df-quickchart-complete');\n",
              "    }\n",
              "    (() => {\n",
              "      let quickchartButtonEl =\n",
              "        document.querySelector('#df-08d3398a-dbbd-4c6f-a75d-e452bf58716a button');\n",
              "      quickchartButtonEl.style.display =\n",
              "        google.colab.kernel.accessAllowed ? 'block' : 'none';\n",
              "    })();\n",
              "  </script>\n",
              "</div>\n",
              "\n",
              "    </div>\n",
              "  </div>\n"
            ],
            "application/vnd.google.colaboratory.intrinsic+json": {
              "type": "dataframe",
              "variable_name": "data"
            }
          },
          "metadata": {},
          "execution_count": 4
        }
      ]
    },
    {
      "cell_type": "code",
      "source": [
        "##finding the datatypes,colums and rows /information of the data provided\n",
        "data.info()"
      ],
      "metadata": {
        "colab": {
          "base_uri": "https://localhost:8080/"
        },
        "id": "hlj6dpB6tonj",
        "outputId": "a253d4ed-79c9-4a6e-a9d8-a505a46de64d"
      },
      "execution_count": 5,
      "outputs": [
        {
          "output_type": "stream",
          "name": "stdout",
          "text": [
            "<class 'pandas.core.frame.DataFrame'>\n",
            "RangeIndex: 5172 entries, 0 to 5171\n",
            "Columns: 3002 entries, Email No. to Prediction\n",
            "dtypes: int64(3001), object(1)\n",
            "memory usage: 118.5+ MB\n"
          ]
        }
      ]
    },
    {
      "cell_type": "code",
      "source": [
        "#Printing the shape(n0.of rows and colomns) of data\n",
        "data.shape"
      ],
      "metadata": {
        "colab": {
          "base_uri": "https://localhost:8080/"
        },
        "id": "-8JuhuFKtzQO",
        "outputId": "b1a471ae-04d4-4f6c-efaf-500ed498454f"
      },
      "execution_count": 6,
      "outputs": [
        {
          "output_type": "execute_result",
          "data": {
            "text/plain": [
              "(5172, 3002)"
            ]
          },
          "metadata": {},
          "execution_count": 6
        }
      ]
    },
    {
      "cell_type": "markdown",
      "source": [
        "There are 5172 rows and 3002 colomns"
      ],
      "metadata": {
        "id": "MJs_-0FykfdM"
      }
    },
    {
      "cell_type": "code",
      "source": [
        "#print the null values in the datase\n",
        "data.isnull().sum()"
      ],
      "metadata": {
        "colab": {
          "base_uri": "https://localhost:8080/",
          "height": 458
        },
        "id": "LIRVXOWDgXxA",
        "outputId": "2d7dfbc2-1ae1-4801-93e5-407b53a6cc58"
      },
      "execution_count": 7,
      "outputs": [
        {
          "output_type": "execute_result",
          "data": {
            "text/plain": [
              "Email No.     0\n",
              "the           0\n",
              "to            0\n",
              "ect           0\n",
              "and           0\n",
              "             ..\n",
              "military      0\n",
              "allowing      0\n",
              "ff            0\n",
              "dry           0\n",
              "Prediction    0\n",
              "Length: 3002, dtype: int64"
            ],
            "text/html": [
              "<div>\n",
              "<style scoped>\n",
              "    .dataframe tbody tr th:only-of-type {\n",
              "        vertical-align: middle;\n",
              "    }\n",
              "\n",
              "    .dataframe tbody tr th {\n",
              "        vertical-align: top;\n",
              "    }\n",
              "\n",
              "    .dataframe thead th {\n",
              "        text-align: right;\n",
              "    }\n",
              "</style>\n",
              "<table border=\"1\" class=\"dataframe\">\n",
              "  <thead>\n",
              "    <tr style=\"text-align: right;\">\n",
              "      <th></th>\n",
              "      <th>0</th>\n",
              "    </tr>\n",
              "  </thead>\n",
              "  <tbody>\n",
              "    <tr>\n",
              "      <th>Email No.</th>\n",
              "      <td>0</td>\n",
              "    </tr>\n",
              "    <tr>\n",
              "      <th>the</th>\n",
              "      <td>0</td>\n",
              "    </tr>\n",
              "    <tr>\n",
              "      <th>to</th>\n",
              "      <td>0</td>\n",
              "    </tr>\n",
              "    <tr>\n",
              "      <th>ect</th>\n",
              "      <td>0</td>\n",
              "    </tr>\n",
              "    <tr>\n",
              "      <th>and</th>\n",
              "      <td>0</td>\n",
              "    </tr>\n",
              "    <tr>\n",
              "      <th>...</th>\n",
              "      <td>...</td>\n",
              "    </tr>\n",
              "    <tr>\n",
              "      <th>military</th>\n",
              "      <td>0</td>\n",
              "    </tr>\n",
              "    <tr>\n",
              "      <th>allowing</th>\n",
              "      <td>0</td>\n",
              "    </tr>\n",
              "    <tr>\n",
              "      <th>ff</th>\n",
              "      <td>0</td>\n",
              "    </tr>\n",
              "    <tr>\n",
              "      <th>dry</th>\n",
              "      <td>0</td>\n",
              "    </tr>\n",
              "    <tr>\n",
              "      <th>Prediction</th>\n",
              "      <td>0</td>\n",
              "    </tr>\n",
              "  </tbody>\n",
              "</table>\n",
              "<p>3002 rows × 1 columns</p>\n",
              "</div><br><label><b>dtype:</b> int64</label>"
            ]
          },
          "metadata": {},
          "execution_count": 7
        }
      ]
    },
    {
      "cell_type": "markdown",
      "source": [
        "There are no null values in the dataset"
      ],
      "metadata": {
        "id": "_QfBmj364_IE"
      }
    },
    {
      "cell_type": "code",
      "source": [
        "#Print the duplicate values\n",
        "data.duplicated().sum()"
      ],
      "metadata": {
        "colab": {
          "base_uri": "https://localhost:8080/"
        },
        "id": "YFnjwedN6N12",
        "outputId": "ed566bd2-a37f-4580-d683-69bba7dce71c"
      },
      "execution_count": 8,
      "outputs": [
        {
          "output_type": "execute_result",
          "data": {
            "text/plain": [
              "np.int64(0)"
            ]
          },
          "metadata": {},
          "execution_count": 8
        }
      ]
    },
    {
      "cell_type": "markdown",
      "source": [
        "There are no duplicate values"
      ],
      "metadata": {
        "id": "GcSwUze7i4XG"
      }
    },
    {
      "cell_type": "code",
      "source": [
        "#Print value counts for prediction colomn\n",
        "data['Prediction'].value_counts()"
      ],
      "metadata": {
        "colab": {
          "base_uri": "https://localhost:8080/",
          "height": 178
        },
        "id": "u189zqsA6-Bw",
        "outputId": "92e06907-8a54-4276-dcb3-cf4796719268"
      },
      "execution_count": 9,
      "outputs": [
        {
          "output_type": "execute_result",
          "data": {
            "text/plain": [
              "Prediction\n",
              "0    3672\n",
              "1    1500\n",
              "Name: count, dtype: int64"
            ],
            "text/html": [
              "<div>\n",
              "<style scoped>\n",
              "    .dataframe tbody tr th:only-of-type {\n",
              "        vertical-align: middle;\n",
              "    }\n",
              "\n",
              "    .dataframe tbody tr th {\n",
              "        vertical-align: top;\n",
              "    }\n",
              "\n",
              "    .dataframe thead th {\n",
              "        text-align: right;\n",
              "    }\n",
              "</style>\n",
              "<table border=\"1\" class=\"dataframe\">\n",
              "  <thead>\n",
              "    <tr style=\"text-align: right;\">\n",
              "      <th></th>\n",
              "      <th>count</th>\n",
              "    </tr>\n",
              "    <tr>\n",
              "      <th>Prediction</th>\n",
              "      <th></th>\n",
              "    </tr>\n",
              "  </thead>\n",
              "  <tbody>\n",
              "    <tr>\n",
              "      <th>0</th>\n",
              "      <td>3672</td>\n",
              "    </tr>\n",
              "    <tr>\n",
              "      <th>1</th>\n",
              "      <td>1500</td>\n",
              "    </tr>\n",
              "  </tbody>\n",
              "</table>\n",
              "</div><br><label><b>dtype:</b> int64</label>"
            ]
          },
          "metadata": {},
          "execution_count": 9
        }
      ]
    },
    {
      "cell_type": "markdown",
      "source": [
        "1. There are 3672 instances of mail prediction being not spam\n",
        "2. There are 1500 instances of mail prediction being spam  "
      ],
      "metadata": {
        "id": "b2YihP0Ai-QW"
      }
    },
    {
      "cell_type": "code",
      "source": [
        "# Drop unnecessary identifier column\n",
        "df = data.drop(columns=[\"Email No.\"])"
      ],
      "metadata": {
        "id": "rdGrz9YE6e_4"
      },
      "execution_count": 10,
      "outputs": []
    },
    {
      "cell_type": "markdown",
      "source": [
        "Dropping unnecessary colomns"
      ],
      "metadata": {
        "id": "7riPqXV-g2GZ"
      }
    },
    {
      "cell_type": "code",
      "source": [
        "# Split features and target\n",
        "X = df.drop(columns=[\"Prediction\"])\n",
        "y = df[\"Prediction\"]\n",
        "\n",
        "# Split into training and test sets\n",
        "X_train, X_test, y_train, y_test = train_test_split(X, y, test_size=0.3, random_state=42)"
      ],
      "metadata": {
        "id": "m9sWzqx86upk"
      },
      "execution_count": 11,
      "outputs": []
    },
    {
      "cell_type": "code",
      "source": [
        "# Standardize features\n",
        "scaler = StandardScaler()\n",
        "X_train_scaled = scaler.fit_transform(X_train)\n",
        "X_test_scaled = scaler.transform(X_test)"
      ],
      "metadata": {
        "id": "nnm_DujU7heJ"
      },
      "execution_count": 12,
      "outputs": []
    },
    {
      "cell_type": "code",
      "source": [
        "# Initialize KNN classifier\n",
        "knn = KNeighborsClassifier(n_neighbors=5)  # Starting with k=5\n",
        "\n",
        "# Train the model\n",
        "knn.fit(X_train, y_train)\n",
        "\n",
        "# Make predictions\n",
        "y_pred = knn.predict(X_test)"
      ],
      "metadata": {
        "id": "0ueFsSyF_pAZ"
      },
      "execution_count": 13,
      "outputs": []
    },
    {
      "cell_type": "markdown",
      "source": [
        "1. Using Knnclassifiers and giving the number of neighbors ,setting k = 5, which means the algorithm will look at the 5 nearest neighbors to make a prediction.\n",
        "2. Fitting the Knn model to train data to model (here Knn stores the data and uses it for future predictions).\n",
        "3. KNN is a lazy learner, so it doesn’t actually \"learn\" like other models—it just remembers the training data."
      ],
      "metadata": {
        "id": "5TuDnWxljgmh"
      }
    },
    {
      "cell_type": "code",
      "source": [
        "# Create the confusion matrix\n",
        "cm = confusion_matrix(y_test, y_pred)\n",
        "\n",
        "# Plot the confusion matrix using seaborn\n",
        "plt.figure(figsize=(8, 6))\n",
        "sns.heatmap(cm, annot=True, fmt=\"d\", cmap=\"Blues\",\n",
        "            xticklabels=[\"Not Spam\", \"Spam\"], yticklabels=[\"Not Spam\", \"Spam\"])\n",
        "plt.xlabel(\"Predicted\")\n",
        "plt.ylabel(\"Actual\")\n",
        "plt.title(\"Confusion Matrix\")\n",
        "plt.show()\n"
      ],
      "metadata": {
        "colab": {
          "base_uri": "https://localhost:8080/",
          "height": 564
        },
        "id": "mMyUG--6_6tr",
        "outputId": "66ba20f7-c93d-46a9-c142-d666a227d63e"
      },
      "execution_count": 14,
      "outputs": [
        {
          "output_type": "display_data",
          "data": {
            "text/plain": [
              "<Figure size 800x600 with 2 Axes>"
            ],
            "image/png": "[encoded data removed]"
          },
          "metadata": {}
        }
      ]
    },
    {
      "cell_type": "markdown",
      "source": [
        "1. True Negative (TN) = 957 → Not spam correctly identified as not spam\n",
        "\n",
        "2. False Positive (FP) = 140 → Not spam wrongly identified as spam\n",
        "\n",
        "3. False Negative (FN) = 78 → Spam wrongly identified as not spam\n",
        "\n",
        "4. True Positive (TP) = 377 → Spam correctly identified as spam"
      ],
      "metadata": {
        "id": "nHJPjwRMWXPh"
      }
    },
    {
      "cell_type": "code",
      "source": [
        "#Predictions from the model\n",
        "y_train_pred= knn.predict(X_train)\n",
        "y_test_pred= knn.predict(X_test)"
      ],
      "metadata": {
        "id": "VzKaepZ-Fa1D"
      },
      "execution_count": 15,
      "outputs": []
    },
    {
      "cell_type": "code",
      "source": [
        "#Getting the performance\n",
        "print('Training Accuracy :', np.round(metrics.accuracy_score(y_train, y_train_pred),3))\n",
        "print('Training Precision :', np.round(metrics.precision_score(y_train, y_train_pred),3))\n",
        "print('Training Recall :' , np.round(metrics.recall_score(y_train, y_train_pred),3))\n",
        "print('Training F1 Score :' , np.round(metrics.f1_score(y_train, y_train_pred),3))\n",
        "print('\\nTesting Accuracy :' ,  np.round(metrics.accuracy_score(y_test, y_test_pred),3))\n",
        "print('Testing Precision :' , np.round(metrics.precision_score(y_test, y_test_pred),3))\n",
        "print('Testing Recall :' , np.round(metrics.recall_score(y_test, y_test_pred),3))\n",
        "print('Testing F1 Score :' , np.round(metrics.f1_score(y_test, y_test_pred),3))"
      ],
      "metadata": {
        "id": "NYXmPXaoAxQo",
        "colab": {
          "base_uri": "https://localhost:8080/"
        },
        "outputId": "7f3df3bb-76c3-4151-f7d3-10cd2ee97c2d"
      },
      "execution_count": 16,
      "outputs": [
        {
          "output_type": "stream",
          "name": "stdout",
          "text": [
            "Training Accuracy : 0.915\n",
            "Training Precision : 0.819\n",
            "Training Recall : 0.903\n",
            "Training F1 Score : 0.859\n",
            "\n",
            "Testing Accuracy : 0.86\n",
            "Testing Precision : 0.729\n",
            "Testing Recall : 0.829\n",
            "Testing F1 Score : 0.776\n"
          ]
        }
      ]
    },
    {
      "cell_type": "markdown",
      "source": [
        "The model has a moderate accuracy of 86% which means about 86% of emails are correctely classified and has recall of 82% which means it correctly identified 82% positive instances,so there is room for improvement"
      ],
      "metadata": {
        "id": "9xI5bp1UX8by"
      }
    },
    {
      "cell_type": "code",
      "source": [
        "'''#Hyperparameter Tuning for optimal model\n",
        "param_grid = {\n",
        "    'n_neighbors': list(range(1, 21)),\n",
        "    'metric': ['euclidean', 'manhattan']\n",
        "}\n",
        "\n",
        "grid = GridSearchCV(KNeighborsClassifier(), param_grid, cv=5, scoring='accuracy')\n",
        "grid.fit(X_train_scaled, y_train)\n",
        "\n",
        "print(\"Best Parameters:\", grid.best_params_)\n",
        "print(\"Best Cross-Validated Accuracy:\", grid.best_score_)'''"
      ],
      "metadata": {
        "id": "Sl9maQjNA8Jl",
        "colab": {
          "base_uri": "https://localhost:8080/",
          "height": 70
        },
        "outputId": "6351d232-f024-4951-ebb7-80352373a812"
      },
      "execution_count": 18,
      "outputs": [
        {
          "output_type": "execute_result",
          "data": {
            "text/plain": [
              "'#Hyperparameter Tuning for optimal model\\nparam_grid = {\\n    \\'n_neighbors\\': list(range(1, 21)),\\n    \\'metric\\': [\\'euclidean\\', \\'manhattan\\']\\n}\\n\\ngrid = GridSearchCV(KNeighborsClassifier(), param_grid, cv=5, scoring=\\'accuracy\\')\\ngrid.fit(X_train_scaled, y_train)\\n\\nprint(\"Best Parameters:\", grid.best_params_)\\nprint(\"Best Cross-Validated Accuracy:\", grid.best_score_)'"
            ],
            "application/vnd.google.colaboratory.intrinsic+json": {
              "type": "string"
            }
          },
          "metadata": {},
          "execution_count": 18
        }
      ]
    },
    {
      "cell_type": "markdown",
      "source": [
        "Grid search is taking a longer time since the dataset is very large"
      ],
      "metadata": {
        "id": "YrdClW3okBxg"
      }
    },
    {
      "cell_type": "code",
      "source": [
        "# Reduce dimensionality\n",
        "pca = PCA(n_components=0.95)\n",
        "X_train_pca = pca.fit_transform(X_train)\n",
        "X_test_pca = pca.transform(X_test)\n",
        "\n",
        "# Randomized search on smaller grid\n",
        "param_dist = {\n",
        "    'n_neighbors': np.arange(3, 15),\n",
        "    'weights': ['distance'],\n",
        "    'metric': ['manhattan']\n",
        "}\n",
        "\n",
        "random_search = RandomizedSearchCV(\n",
        "    KNeighborsClassifier(algorithm='kd_tree'),\n",
        "    param_dist,\n",
        "    n_iter=15,\n",
        "    cv=3,\n",
        "    n_jobs=-1,\n",
        "    random_state=42\n",
        ")\n",
        "random_search.fit(X_train_pca, y_train)\n",
        "\n",
        "print(\"Best params:\", random_search.best_params_)"
      ],
      "metadata": {
        "colab": {
          "base_uri": "https://localhost:8080/"
        },
        "id": "ONzdEGoDlVlZ",
        "outputId": "e6ee7e8c-7b79-4b78-d556-3905595a3c32"
      },
      "execution_count": 17,
      "outputs": [
        {
          "output_type": "stream",
          "name": "stderr",
          "text": [
            "/usr/local/lib/python3.11/dist-packages/sklearn/model_selection/_search.py:317: UserWarning: The total space of parameters 12 is smaller than n_iter=15. Running 12 iterations. For exhaustive searches, use GridSearchCV.\n",
            "  warnings.warn(\n"
          ]
        },
        {
          "output_type": "stream",
          "name": "stdout",
          "text": [
            "Best params: {'weights': 'distance', 'n_neighbors': np.int64(14), 'metric': 'manhattan'}\n"
          ]
        }
      ]
    },
    {
      "cell_type": "markdown",
      "source": [
        "1. Dimensionality Reduction (PCA)\n",
        "\n",
        " * Reduces 3000+ word features to a smaller set (keeping 95% variance).\n",
        " * Since KNN slows down with high dimensions. PCA speeds up distance calculations.\n",
        "\n",
        "2. Randomized Search (RandomizedSearchCV)\n",
        "\n",
        " * Tests 15 random combinations of hyperparameters (instead of all possible ones).\n",
        "\n",
        " * Faster than exhaustive grid search while still finding good parameters.\n",
        "\n",
        "3. Optimized KNN Parameters\n",
        "\n",
        " * n_neighbors: Tests values 3–14 (avoids overfitting with small k).\n",
        "\n",
        " * weights='distance': Closer neighbors have more influence.\n",
        "\n",
        " * metric='manhattan': Better than Euclidean for high-dimensional text data.\n",
        "\n",
        " * algorithm='kd_tree': Speeds up nearest-neighbor searches.\n",
        "\n",
        "4. Parallelization (n_jobs=-1)\n",
        "\n",
        " * Uses all CPU cores to speed up cross-validation."
      ],
      "metadata": {
        "id": "X62nsln1qUHC"
      }
    },
    {
      "cell_type": "code",
      "source": [
        "# Use the best model from the random search to make predictions\n",
        "best_knn = random_search.best_estimator_"
      ],
      "metadata": {
        "id": "hES9C2JTniLX"
      },
      "execution_count": 25,
      "outputs": []
    },
    {
      "cell_type": "code",
      "source": [
        "y_test_pred_best = best_knn.predict(X_test_pca)\n",
        "y_train_pred_best = best_knn.predict(X_train_pca)"
      ],
      "metadata": {
        "id": "N8_mgNxSn3yf"
      },
      "execution_count": 26,
      "outputs": []
    },
    {
      "cell_type": "code",
      "source": [
        "#Print training and testing clasification metric scores\n",
        "print('Testing Accuracy :', np.round(metrics.accuracy_score(y_test, y_pred_best),3))\n",
        "print('Testing Precision :', np.round(metrics.precision_score(y_test, y_pred_best),3))\n",
        "print('Testing Recall :', np.round(metrics.recall_score(y_test, y_pred_best),3))\n",
        "print('Testing F1 Score :', np.round(metrics.f1_score(y_test, y_pred_best),3))\n",
        "\n",
        "print('\\nTraining Accuracy :', np.round(metrics.accuracy_score(y_train, y_train_pred_best),3))\n",
        "print('Training Precision :', np.round(metrics.precision_score(y_train, y_train_pred_best),3))\n",
        "print('Training Recall :', np.round(metrics.recall_score(y_train, y_train_pred_best),3))\n",
        "print('Training F1 Score :', np.round(metrics.f1_score(y_train, y_train_pred_best),3))"
      ],
      "metadata": {
        "colab": {
          "base_uri": "https://localhost:8080/"
        },
        "id": "Ka-0owg8odtX",
        "outputId": "3a2e68f0-47fa-45cf-8cf7-d0fe7079bdd2"
      },
      "execution_count": 27,
      "outputs": [
        {
          "output_type": "stream",
          "name": "stdout",
          "text": [
            "Testing Accuracy : 0.771\n",
            "Testing Precision : 0.645\n",
            "Testing Recall : 0.484\n",
            "Testing F1 Score : 0.553\n",
            "\n",
            "Training Accuracy : 1.0\n",
            "Training Precision : 1.0\n",
            "Training Recall : 1.0\n",
            "Training F1 Score : 1.0\n"
          ]
        }
      ]
    },
    {
      "cell_type": "markdown",
      "source": [
        "1. Based on the traning metrics the model is perfectly memorizing the training data — every prediction it makes on the training set is correct.\n",
        "2. But testing metrics, especially recall and F1-score are very poor, which means the model is struggling to generalize to new/unseen data.\n",
        "3. As the difference between training and testing metrics is more ,so the model is overfitting.\n",
        "4. Hence KNeighboursClassifiers with 5 neighbors gives better results with accuracy of 86%"
      ],
      "metadata": {
        "id": "Dh3oNgEzrlgB"
      }
    },
    {
      "cell_type": "markdown",
      "source": [
        "📌 What is KNN?\n",
        "\\\n",
        "KNN is a supervised learning algorithm used for classification and regression. It predicts the label of a data point based on the majority class of its K closest neighbors in the feature space.\n",
        "\n",
        "\\\n",
        "🔍 Assumptions of KNN:\n",
        "\n",
        " * Similar inputs have similar outputs (i.e., data points that are close together likely belong to the same class).\n",
        "\n",
        " * The dataset is well-scaled, as KNN is distance-based.\n",
        "\n",
        " * No assumptions are made about the underlying data distribution.\n",
        "\n",
        "\\\n",
        "✅ Advantages:\n",
        "\n",
        " * Simple and easy to understand.\n",
        "\n",
        " * No training time – all computation happens during prediction.\n",
        "\n",
        " * Naturally handles multi-class problems.\n",
        "\n",
        " * Non-parametric – doesn’t assume any distribution.\n",
        "\n",
        "\\\n",
        "⚠️ Disadvantages:\n",
        "\n",
        " * Computationally expensive on large datasets (slow predictions).\n",
        "\n",
        " * Sensitive to irrelevant features and feature scaling.\n",
        "\n",
        " * Struggles with imbalanced datasets.\n",
        "\n",
        " * Affected by curse of dimensionality  performance can degrade with many features.\n",
        "\n",
        "\\\n",
        "⚙️ Hyperparameters Used & Why\n",
        "\n",
        "| **Hyperparameter**         | **Description**                          | **Reason**                                                                 |\n",
        "|----------------------------|------------------------------------------|----------------------------------------------------------------------------|\n",
        "| `n_neighbors`              | Number of neighbors to consider          | Start with 5 (common default); tuned from 1–20 for optimal balance         |\n",
        "| `metric`                   | Distance metric (`euclidean`, `manhattan`) | Tried both to test which fits data geometry best                          |\n",
        "| `weights` (default `uniform`) | Weighting of neighbors' vote            | Defaulted to equal votes; can also try `distance` in further tuning        |\n",
        "\n",
        "\\\n",
        "📈 Why These Choices?\n",
        "1. Scaling is critical for KNN due to distance-based nature.\n",
        "\n",
        "2. Cross-validation ensures the selected K generalizes well.\n",
        "\n",
        "3. Grid search allows systematic tuning across common distance metrics."
      ],
      "metadata": {
        "id": "F3H2Oems9ZC3"
      }
    }
  ]
}